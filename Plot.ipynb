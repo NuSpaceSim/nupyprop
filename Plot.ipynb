{
 "cells": [
  {
   "cell_type": "code",
   "execution_count": 1,
   "id": "forced-convertible",
   "metadata": {},
   "outputs": [],
   "source": [
    "import matplotlib as mpl\n",
    "import data as Data\n",
    "import matplotlib.pyplot as plt\n",
    "from matplotlib.ticker import ScalarFormatter\n",
    "import pandas as pd\n",
    "import os\n",
    "import numpy as np\n",
    "from cycler import cycler\n",
    "\n",
    "# %matplotlib inline # for inline plots\n",
    "%matplotlib qt"
   ]
  },
  {
   "cell_type": "markdown",
   "id": "d0f0ce8a",
   "metadata": {},
   "source": [
    "# Set Data Directories"
   ]
  },
  {
   "cell_type": "code",
   "execution_count": 2,
   "id": "excess-circulation",
   "metadata": {},
   "outputs": [],
   "source": [
    "root_dir = '/home/sam/nupyprop_test' # main directory where script files are located\n",
    "data_dir = '/home/sam/nupyprop_test/output' # data directory where output hdf5 files are located\n",
    "psurv_dir = '/home/sam/nupyprop_test/p_surv' # data directory where p_survival output files are located\n",
    "plt.style.use(root_dir+'/matplotlibrc') # my custom plotting style"
   ]
  },
  {
   "cell_type": "markdown",
   "id": "b2899aca",
   "metadata": {},
   "source": [
    "# Set desired parameters "
   ]
  },
  {
   "cell_type": "code",
   "execution_count": 10,
   "id": "a3399994",
   "metadata": {},
   "outputs": [],
   "source": [
    "# energies = np.array([1e7, 1e8, 1e9, 1e10, 1e11]) # ingoing neutrino energy in GeV\n",
    "energies = np.logspace(7,11,17)\n",
    "\n",
    "nu_type = 'nu'\n",
    "lepton = 'tau' # type of lepton\n",
    "\n",
    "nu_tye = 'nu' # nu for neutrino & anu for anti-neutrino\n",
    "nu_cs = 'ct18nlo' # neutrino cross-section model\n",
    "lep_pn = 'allm' # photonuclear energy loss model\n",
    "idepth = 4 # depth of water layer in km\n",
    "stats = 1e8 # no. of ingoing neutrinos ie., statistics\n",
    "loss_type = 'stochastic' # type of energy loss; can be stochastic or continuous\n",
    "\n",
    "material = 'rock' # type of material used in propagation\n",
    "beta_type = 'total' # type of beta required; can be cut or total"
   ]
  },
  {
   "cell_type": "markdown",
   "id": "8483fdad",
   "metadata": {},
   "source": [
    "## Function to get p_exit values"
   ]
  },
  {
   "cell_type": "code",
   "execution_count": 4,
   "id": "9b292344",
   "metadata": {},
   "outputs": [],
   "source": [
    "def p_exit(nu_type, lepton, energies, reg, idepth, nu_cs, lep_pn, type_loss, stats):\n",
    "    os.chdir(data_dir)\n",
    "    p_exit_dict = {}\n",
    "    for energy in energies:\n",
    "        p_exit = Data.get_pexit(nu_type, lepton, energy, reg, idepth, nu_cs, lep_pn, type_loss, stats)\n",
    "        lists = sorted(p_exit.items())\n",
    "        x,y = zip(*lists)\n",
    "        p_exit_dict[energy] = np.asarray(y)\n",
    "    return p_exit_dict"
   ]
  },
  {
   "cell_type": "markdown",
   "id": "ea01b594",
   "metadata": {},
   "source": [
    "## Function to plot exit probability Vs. earth emergence angles"
   ]
  },
  {
   "cell_type": "code",
   "execution_count": 14,
   "id": "fe8d84db",
   "metadata": {},
   "outputs": [],
   "source": [
    "def plot_npp(nu_type, lepton, energies, idepth, nu_cs, lep_pn, loss_type, stats):\n",
    "    p_exit_dict = p_exit(nu_type, lepton, energies, 'regen', idepth, nu_cs, lep_pn, loss_type, stats)\n",
    "    \n",
    "    angles = np.arange(1,36)\n",
    "    \n",
    "    if len(energies) > 4:\n",
    "        cc = (cycler(color=list('rgbkm')) * cycler(linestyle=['solid', 'dotted', 'dashed', 'dashdot']))\n",
    "    else:\n",
    "        cc = (cycler(color=list('rgbkm')))\n",
    "              \n",
    "    params = {'axes.prop_cycle': cc}\n",
    "    plt.rcParams.update(params)\n",
    "\n",
    "    fig, axs = plt.subplots(figsize=(20,10),dpi=100)\n",
    "#     color_lst = ['r', 'g', 'b', 'k', 'm']\n",
    "\n",
    "    for i in range(len(energies)):\n",
    "        energy_log = int(np.log10(energies[i]))\n",
    "\n",
    "        axs.loglog(angles, p_exit_dict[energies[i]], linewidth = 2, label = '%.0d' % energy_log)\n",
    "\n",
    "\n",
    "        axs.legend(loc='best',ncol=int(len(energies)/2), title = r'log$_{10}(E_{\\nu}/GeV)$', frameon=False, framealpha=0.5)\n",
    "\n",
    "\n",
    "    # ticks = (1,2,3,4,5,6,7,8,9,10,20,30,40,50)\n",
    "    # ticks = (1,2,3,4,5,6,7,8,9,10,15,20,25,30,35)\n",
    "    ticks = (1,2,3,4,5,10,15,20,25,30,35)\n",
    "    axs.set_xticks(ticks)\n",
    "    axs.set_xticklabels([i for i in ticks])\n",
    "\n",
    "\n",
    "    axs.grid(which='major', axis='both', linestyle='--')\n",
    "    axs.grid(which='minor', linestyle=':', linewidth='0.2', color='black')\n",
    "    axs.xaxis.set_ticks_position('both')\n",
    "    axs.yaxis.set_ticks_position('both')\n",
    "    axs.tick_params(axis='x', which='both', labelbottom = True, labeltop = False)\n",
    "    axs.tick_params(axis='y', which='both', left = True, labelleft = True, labelright= True)\n",
    "    for axis in [axs.xaxis]:\n",
    "        axis.set_major_formatter(ScalarFormatter())\n",
    "    axs.set_xlabel(\"Emergence Angle (Deg)\")\n",
    "\n",
    "    axs.set_ylabel(r\"$P_{exit}$\")\n",
    "    axs.set_ylim(1e-6,1e-1)\n",
    "\n",
    "    axs.set_xlim(1,35)\n",
    "\n",
    "    plt.tight_layout()\n",
    "    # plt.savefig('p_exit_npp.png', format='png', dpi = 100)\n",
    "\n",
    "    return None"
   ]
  },
  {
   "cell_type": "code",
   "execution_count": 15,
   "id": "62af2791",
   "metadata": {
    "scrolled": true
   },
   "outputs": [],
   "source": [
    "plot_npp(nu_type, lepton, energies, idepth, nu_cs, lep_pn, loss_type, stats)"
   ]
  },
  {
   "cell_type": "code",
   "execution_count": null,
   "id": "70bc6373",
   "metadata": {},
   "outputs": [],
   "source": []
  }
 ],
 "metadata": {
  "kernelspec": {
   "display_name": "Python 3",
   "language": "python",
   "name": "python3"
  },
  "language_info": {
   "codemirror_mode": {
    "name": "ipython",
    "version": 3
   },
   "file_extension": ".py",
   "mimetype": "text/x-python",
   "name": "python",
   "nbconvert_exporter": "python",
   "pygments_lexer": "ipython3",
   "version": "3.8.10"
  }
 },
 "nbformat": 4,
 "nbformat_minor": 5
}
