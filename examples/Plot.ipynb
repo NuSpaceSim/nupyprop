{
 "cells": [
  {
   "cell_type": "code",
   "execution_count": 1,
   "id": "forced-convertible",
   "metadata": {},
   "outputs": [],
   "source": [
    "from __future__ import print_function\n",
    "\n",
    "%matplotlib inline\n",
    "%load_ext autoreload\n",
    "%autoreload 2\n",
    "\n",
    "import glob\n",
    "import numpy as np\n",
    "\n",
    "# Load nuPyProp Data Module\n",
    "from nupyprop import data\n",
    "\n",
    "# Plotting defaults\n",
    "import matplotlib as mpl\n",
    "from matplotlib.ticker import ScalarFormatter\n",
    "from cycler import cycler\n",
    "import matplotlib.pyplot as plt\n",
    "cm = plt.get_cmap('jet')\n",
    "mpl.rcParams['text.usetex'] = True\n",
    "mpl.rcParams['font.family'] = 'serif' \n",
    "mpl.rcParams['xtick.labelsize'] = 26\n",
    "mpl.rcParams['ytick.labelsize'] = 26\n",
    "mpl.rcParams['xtick.major.size'] = 5\n",
    "mpl.rcParams['xtick.minor.size'] = 2.5\n",
    "mpl.rcParams['xtick.major.width'] = 1.0\n",
    "mpl.rcParams['xtick.minor.width'] = 0.75\n",
    "mpl.rcParams['xtick.major.pad'] = 8\n",
    "mpl.rcParams['xtick.direction'] = 'in'\n",
    "mpl.rcParams['ytick.major.size'] = 5\n",
    "mpl.rcParams['ytick.minor.size'] = 2.5\n",
    "mpl.rcParams['ytick.major.width'] = 1.0\n",
    "mpl.rcParams['ytick.minor.width'] = 0.75\n",
    "mpl.rcParams['ytick.major.pad'] = 8\n",
    "mpl.rcParams['ytick.direction'] = 'in'\n",
    "mpl.rcParams['legend.fontsize'] = 26\n",
    "mpl.rcParams['legend.frameon'] = False"
   ]
  },
  {
   "cell_type": "markdown",
   "id": "6c72763c-71a2-49e7-8469-45230815b4a5",
   "metadata": {},
   "source": [
    "# See output files in current directory"
   ]
  },
  {
   "cell_type": "code",
   "execution_count": 2,
   "id": "c7dd2e18-c885-4c9e-a51a-c2c0e067aef3",
   "metadata": {},
   "outputs": [
    {
     "name": "stdout",
     "output_type": "stream",
     "text": [
      "output_nu_tau_4km_ct18nlo_allm_stochastic_1e8.h5\n"
     ]
    }
   ],
   "source": [
    "for file in glob.glob('*h5'):\n",
    "    print(file)"
   ]
  },
  {
   "cell_type": "markdown",
   "id": "b2899aca",
   "metadata": {},
   "source": [
    "# Set desired parameters for output file"
   ]
  },
  {
   "cell_type": "code",
   "execution_count": 3,
   "id": "a3399994",
   "metadata": {},
   "outputs": [],
   "source": [
    "nu_type = 'nu'\n",
    "lepton = 'tau' # type of lepton\n",
    "nu_tye = 'neutrino' # nu for neutrino & anu for anti-neutrino\n",
    "cross_section_model = 'ct18nlo' # neutrino cross-section model\n",
    "pn_model = 'allm' # photonuclear energy loss model\n",
    "idepth = 4 # depth of water layer in km\n",
    "stats = 1e8 # no. of ingoing neutrinos ie., statistics\n",
    "prop_type = 'stochastic' # type of energy loss; can be stochastic or continuous"
   ]
  },
  {
   "cell_type": "markdown",
   "id": "8483fdad",
   "metadata": {},
   "source": [
    "## Function to get p_exit values"
   ]
  },
  {
   "cell_type": "code",
   "execution_count": null,
   "id": "9b292344",
   "metadata": {},
   "outputs": [],
   "source": [
    "def p_exit(nu_type, lepton, energies, reg, idepth, nu_cs, lep_pn, type_loss, stats):\n",
    "    os.chdir(data_dir)\n",
    "    p_exit_dict = {}\n",
    "    for energy in energies:\n",
    "        p_exit = Data.get_pexit(nu_type, lepton, energy, reg, idepth, nu_cs, lep_pn, type_loss, stats)\n",
    "        lists = sorted(p_exit.items())\n",
    "        x,y = zip(*lists)\n",
    "        p_exit_dict[energy] = np.asarray(y)\n",
    "    return p_exit_dict"
   ]
  },
  {
   "cell_type": "markdown",
   "id": "ea01b594",
   "metadata": {},
   "source": [
    "## Function to plot exit probability Vs. Earth emergence angles"
   ]
  },
  {
   "cell_type": "code",
   "execution_count": 14,
   "id": "35c4a340-b7b9-42cb-9157-b16f61b1c560",
   "metadata": {},
   "outputs": [
    {
     "ename": "AttributeError",
     "evalue": "'Line2D' object has no property 'cmap'",
     "output_type": "error",
     "traceback": [
      "\u001b[0;31m---------------------------------------------------------------------------\u001b[0m",
      "\u001b[0;31mAttributeError\u001b[0m                            Traceback (most recent call last)",
      "\u001b[0;32m/tmp/ipykernel_211433/2887090158.py\u001b[0m in \u001b[0;36m<module>\u001b[0;34m\u001b[0m\n\u001b[1;32m     23\u001b[0m \u001b[0;31m#     axs.loglog(angles, pexit_regen, linewidth = 2, label = '%.0d' % energy_log)\u001b[0m\u001b[0;34m\u001b[0m\u001b[0;34m\u001b[0m\u001b[0;34m\u001b[0m\u001b[0m\n\u001b[1;32m     24\u001b[0m \u001b[0;31m#     axs.loglog(angles, pexit_regen, linewidth = 2, c=cm((len(energies)-i)/float(len(energies))))\u001b[0m\u001b[0;34m\u001b[0m\u001b[0;34m\u001b[0m\u001b[0;34m\u001b[0m\u001b[0m\n\u001b[0;32m---> 25\u001b[0;31m     \u001b[0maxs\u001b[0m\u001b[0;34m.\u001b[0m\u001b[0mloglog\u001b[0m\u001b[0;34m(\u001b[0m\u001b[0mangles\u001b[0m\u001b[0;34m,\u001b[0m \u001b[0mpexit_regen\u001b[0m\u001b[0;34m,\u001b[0m \u001b[0mlinewidth\u001b[0m \u001b[0;34m=\u001b[0m \u001b[0;36m2\u001b[0m\u001b[0;34m,\u001b[0m \u001b[0mcmap\u001b[0m\u001b[0;34m=\u001b[0m\u001b[0mplt\u001b[0m\u001b[0;34m.\u001b[0m\u001b[0mget_cmap\u001b[0m\u001b[0;34m(\u001b[0m\u001b[0;34m'hsv'\u001b[0m\u001b[0;34m)\u001b[0m\u001b[0;34m)\u001b[0m\u001b[0;34m\u001b[0m\u001b[0;34m\u001b[0m\u001b[0m\n\u001b[0m\u001b[1;32m     26\u001b[0m \u001b[0;34m\u001b[0m\u001b[0m\n\u001b[1;32m     27\u001b[0m \u001b[0;31m# print(int(len(energies)/4))\u001b[0m\u001b[0;34m\u001b[0m\u001b[0;34m\u001b[0m\u001b[0;34m\u001b[0m\u001b[0m\n",
      "\u001b[0;32m~/anaconda3/envs/npp_test/lib/python3.9/site-packages/matplotlib/axes/_axes.py\u001b[0m in \u001b[0;36mloglog\u001b[0;34m(self, *args, **kwargs)\u001b[0m\n\u001b[1;32m   1729\u001b[0m                        'basey', 'subsy', 'nonposy']}\n\u001b[1;32m   1730\u001b[0m         \u001b[0mself\u001b[0m\u001b[0;34m.\u001b[0m\u001b[0mset_yscale\u001b[0m\u001b[0;34m(\u001b[0m\u001b[0;34m'log'\u001b[0m\u001b[0;34m,\u001b[0m \u001b[0;34m**\u001b[0m\u001b[0mdy\u001b[0m\u001b[0;34m)\u001b[0m\u001b[0;34m\u001b[0m\u001b[0;34m\u001b[0m\u001b[0m\n\u001b[0;32m-> 1731\u001b[0;31m         return self.plot(\n\u001b[0m\u001b[1;32m   1732\u001b[0m             *args, **{k: v for k, v in kwargs.items() if k not in {*dx, *dy}})\n\u001b[1;32m   1733\u001b[0m \u001b[0;34m\u001b[0m\u001b[0m\n",
      "\u001b[0;32m~/anaconda3/envs/npp_test/lib/python3.9/site-packages/matplotlib/axes/_axes.py\u001b[0m in \u001b[0;36mplot\u001b[0;34m(self, scalex, scaley, data, *args, **kwargs)\u001b[0m\n\u001b[1;32m   1603\u001b[0m         \"\"\"\n\u001b[1;32m   1604\u001b[0m         \u001b[0mkwargs\u001b[0m \u001b[0;34m=\u001b[0m \u001b[0mcbook\u001b[0m\u001b[0;34m.\u001b[0m\u001b[0mnormalize_kwargs\u001b[0m\u001b[0;34m(\u001b[0m\u001b[0mkwargs\u001b[0m\u001b[0;34m,\u001b[0m \u001b[0mmlines\u001b[0m\u001b[0;34m.\u001b[0m\u001b[0mLine2D\u001b[0m\u001b[0;34m)\u001b[0m\u001b[0;34m\u001b[0m\u001b[0;34m\u001b[0m\u001b[0m\n\u001b[0;32m-> 1605\u001b[0;31m         \u001b[0mlines\u001b[0m \u001b[0;34m=\u001b[0m \u001b[0;34m[\u001b[0m\u001b[0;34m*\u001b[0m\u001b[0mself\u001b[0m\u001b[0;34m.\u001b[0m\u001b[0m_get_lines\u001b[0m\u001b[0;34m(\u001b[0m\u001b[0;34m*\u001b[0m\u001b[0margs\u001b[0m\u001b[0;34m,\u001b[0m \u001b[0mdata\u001b[0m\u001b[0;34m=\u001b[0m\u001b[0mdata\u001b[0m\u001b[0;34m,\u001b[0m \u001b[0;34m**\u001b[0m\u001b[0mkwargs\u001b[0m\u001b[0;34m)\u001b[0m\u001b[0;34m]\u001b[0m\u001b[0;34m\u001b[0m\u001b[0;34m\u001b[0m\u001b[0m\n\u001b[0m\u001b[1;32m   1606\u001b[0m         \u001b[0;32mfor\u001b[0m \u001b[0mline\u001b[0m \u001b[0;32min\u001b[0m \u001b[0mlines\u001b[0m\u001b[0;34m:\u001b[0m\u001b[0;34m\u001b[0m\u001b[0;34m\u001b[0m\u001b[0m\n\u001b[1;32m   1607\u001b[0m             \u001b[0mself\u001b[0m\u001b[0;34m.\u001b[0m\u001b[0madd_line\u001b[0m\u001b[0;34m(\u001b[0m\u001b[0mline\u001b[0m\u001b[0;34m)\u001b[0m\u001b[0;34m\u001b[0m\u001b[0;34m\u001b[0m\u001b[0m\n",
      "\u001b[0;32m~/anaconda3/envs/npp_test/lib/python3.9/site-packages/matplotlib/axes/_base.py\u001b[0m in \u001b[0;36m__call__\u001b[0;34m(self, data, *args, **kwargs)\u001b[0m\n\u001b[1;32m    313\u001b[0m                 \u001b[0mthis\u001b[0m \u001b[0;34m+=\u001b[0m \u001b[0margs\u001b[0m\u001b[0;34m[\u001b[0m\u001b[0;36m0\u001b[0m\u001b[0;34m]\u001b[0m\u001b[0;34m,\u001b[0m\u001b[0;34m\u001b[0m\u001b[0;34m\u001b[0m\u001b[0m\n\u001b[1;32m    314\u001b[0m                 \u001b[0margs\u001b[0m \u001b[0;34m=\u001b[0m \u001b[0margs\u001b[0m\u001b[0;34m[\u001b[0m\u001b[0;36m1\u001b[0m\u001b[0;34m:\u001b[0m\u001b[0;34m]\u001b[0m\u001b[0;34m\u001b[0m\u001b[0;34m\u001b[0m\u001b[0m\n\u001b[0;32m--> 315\u001b[0;31m             \u001b[0;32myield\u001b[0m \u001b[0;32mfrom\u001b[0m \u001b[0mself\u001b[0m\u001b[0;34m.\u001b[0m\u001b[0m_plot_args\u001b[0m\u001b[0;34m(\u001b[0m\u001b[0mthis\u001b[0m\u001b[0;34m,\u001b[0m \u001b[0mkwargs\u001b[0m\u001b[0;34m)\u001b[0m\u001b[0;34m\u001b[0m\u001b[0;34m\u001b[0m\u001b[0m\n\u001b[0m\u001b[1;32m    316\u001b[0m \u001b[0;34m\u001b[0m\u001b[0m\n\u001b[1;32m    317\u001b[0m     \u001b[0;32mdef\u001b[0m \u001b[0mget_next_color\u001b[0m\u001b[0;34m(\u001b[0m\u001b[0mself\u001b[0m\u001b[0;34m)\u001b[0m\u001b[0;34m:\u001b[0m\u001b[0;34m\u001b[0m\u001b[0;34m\u001b[0m\u001b[0m\n",
      "\u001b[0;32m~/anaconda3/envs/npp_test/lib/python3.9/site-packages/matplotlib/axes/_base.py\u001b[0m in \u001b[0;36m_plot_args\u001b[0;34m(self, tup, kwargs, return_kwargs)\u001b[0m\n\u001b[1;32m    537\u001b[0m             \u001b[0;32mreturn\u001b[0m \u001b[0mlist\u001b[0m\u001b[0;34m(\u001b[0m\u001b[0mresult\u001b[0m\u001b[0;34m)\u001b[0m\u001b[0;34m\u001b[0m\u001b[0;34m\u001b[0m\u001b[0m\n\u001b[1;32m    538\u001b[0m         \u001b[0;32melse\u001b[0m\u001b[0;34m:\u001b[0m\u001b[0;34m\u001b[0m\u001b[0;34m\u001b[0m\u001b[0m\n\u001b[0;32m--> 539\u001b[0;31m             \u001b[0;32mreturn\u001b[0m \u001b[0;34m[\u001b[0m\u001b[0ml\u001b[0m\u001b[0;34m[\u001b[0m\u001b[0;36m0\u001b[0m\u001b[0;34m]\u001b[0m \u001b[0;32mfor\u001b[0m \u001b[0ml\u001b[0m \u001b[0;32min\u001b[0m \u001b[0mresult\u001b[0m\u001b[0;34m]\u001b[0m\u001b[0;34m\u001b[0m\u001b[0;34m\u001b[0m\u001b[0m\n\u001b[0m\u001b[1;32m    540\u001b[0m \u001b[0;34m\u001b[0m\u001b[0m\n\u001b[1;32m    541\u001b[0m \u001b[0;34m\u001b[0m\u001b[0m\n",
      "\u001b[0;32m~/anaconda3/envs/npp_test/lib/python3.9/site-packages/matplotlib/axes/_base.py\u001b[0m in \u001b[0;36m<listcomp>\u001b[0;34m(.0)\u001b[0m\n\u001b[1;32m    537\u001b[0m             \u001b[0;32mreturn\u001b[0m \u001b[0mlist\u001b[0m\u001b[0;34m(\u001b[0m\u001b[0mresult\u001b[0m\u001b[0;34m)\u001b[0m\u001b[0;34m\u001b[0m\u001b[0;34m\u001b[0m\u001b[0m\n\u001b[1;32m    538\u001b[0m         \u001b[0;32melse\u001b[0m\u001b[0;34m:\u001b[0m\u001b[0;34m\u001b[0m\u001b[0;34m\u001b[0m\u001b[0m\n\u001b[0;32m--> 539\u001b[0;31m             \u001b[0;32mreturn\u001b[0m \u001b[0;34m[\u001b[0m\u001b[0ml\u001b[0m\u001b[0;34m[\u001b[0m\u001b[0;36m0\u001b[0m\u001b[0;34m]\u001b[0m \u001b[0;32mfor\u001b[0m \u001b[0ml\u001b[0m \u001b[0;32min\u001b[0m \u001b[0mresult\u001b[0m\u001b[0;34m]\u001b[0m\u001b[0;34m\u001b[0m\u001b[0;34m\u001b[0m\u001b[0m\n\u001b[0m\u001b[1;32m    540\u001b[0m \u001b[0;34m\u001b[0m\u001b[0m\n\u001b[1;32m    541\u001b[0m \u001b[0;34m\u001b[0m\u001b[0m\n",
      "\u001b[0;32m~/anaconda3/envs/npp_test/lib/python3.9/site-packages/matplotlib/axes/_base.py\u001b[0m in \u001b[0;36m<genexpr>\u001b[0;34m(.0)\u001b[0m\n\u001b[1;32m    530\u001b[0m             \u001b[0mlabels\u001b[0m \u001b[0;34m=\u001b[0m \u001b[0;34m[\u001b[0m\u001b[0mlabel\u001b[0m\u001b[0;34m]\u001b[0m \u001b[0;34m*\u001b[0m \u001b[0mn_datasets\u001b[0m\u001b[0;34m\u001b[0m\u001b[0;34m\u001b[0m\u001b[0m\n\u001b[1;32m    531\u001b[0m \u001b[0;34m\u001b[0m\u001b[0m\n\u001b[0;32m--> 532\u001b[0;31m         result = (make_artist(x[:, j % ncx], y[:, j % ncy], kw,\n\u001b[0m\u001b[1;32m    533\u001b[0m                               {**kwargs, 'label': label})\n\u001b[1;32m    534\u001b[0m                   for j, label in enumerate(labels))\n",
      "\u001b[0;32m~/anaconda3/envs/npp_test/lib/python3.9/site-packages/matplotlib/axes/_base.py\u001b[0m in \u001b[0;36m_makeline\u001b[0;34m(self, x, y, kw, kwargs)\u001b[0m\n\u001b[1;32m    352\u001b[0m         \u001b[0mdefault_dict\u001b[0m \u001b[0;34m=\u001b[0m \u001b[0mself\u001b[0m\u001b[0;34m.\u001b[0m\u001b[0m_getdefaults\u001b[0m\u001b[0;34m(\u001b[0m\u001b[0mset\u001b[0m\u001b[0;34m(\u001b[0m\u001b[0;34m)\u001b[0m\u001b[0;34m,\u001b[0m \u001b[0mkw\u001b[0m\u001b[0;34m)\u001b[0m\u001b[0;34m\u001b[0m\u001b[0;34m\u001b[0m\u001b[0m\n\u001b[1;32m    353\u001b[0m         \u001b[0mself\u001b[0m\u001b[0;34m.\u001b[0m\u001b[0m_setdefaults\u001b[0m\u001b[0;34m(\u001b[0m\u001b[0mdefault_dict\u001b[0m\u001b[0;34m,\u001b[0m \u001b[0mkw\u001b[0m\u001b[0;34m)\u001b[0m\u001b[0;34m\u001b[0m\u001b[0;34m\u001b[0m\u001b[0m\n\u001b[0;32m--> 354\u001b[0;31m         \u001b[0mseg\u001b[0m \u001b[0;34m=\u001b[0m \u001b[0mmlines\u001b[0m\u001b[0;34m.\u001b[0m\u001b[0mLine2D\u001b[0m\u001b[0;34m(\u001b[0m\u001b[0mx\u001b[0m\u001b[0;34m,\u001b[0m \u001b[0my\u001b[0m\u001b[0;34m,\u001b[0m \u001b[0;34m**\u001b[0m\u001b[0mkw\u001b[0m\u001b[0;34m)\u001b[0m\u001b[0;34m\u001b[0m\u001b[0;34m\u001b[0m\u001b[0m\n\u001b[0m\u001b[1;32m    355\u001b[0m         \u001b[0;32mreturn\u001b[0m \u001b[0mseg\u001b[0m\u001b[0;34m,\u001b[0m \u001b[0mkw\u001b[0m\u001b[0;34m\u001b[0m\u001b[0;34m\u001b[0m\u001b[0m\n\u001b[1;32m    356\u001b[0m \u001b[0;34m\u001b[0m\u001b[0m\n",
      "\u001b[0;32m~/anaconda3/envs/npp_test/lib/python3.9/site-packages/matplotlib/lines.py\u001b[0m in \u001b[0;36m__init__\u001b[0;34m(self, xdata, ydata, linewidth, linestyle, color, marker, markersize, markeredgewidth, markeredgecolor, markerfacecolor, markerfacecoloralt, fillstyle, antialiased, dash_capstyle, solid_capstyle, dash_joinstyle, solid_joinstyle, pickradius, drawstyle, markevery, **kwargs)\u001b[0m\n\u001b[1;32m    395\u001b[0m         \u001b[0;31m# update kwargs before updating data to give the caller a\u001b[0m\u001b[0;34m\u001b[0m\u001b[0;34m\u001b[0m\u001b[0;34m\u001b[0m\u001b[0m\n\u001b[1;32m    396\u001b[0m         \u001b[0;31m# chance to init axes (and hence unit support)\u001b[0m\u001b[0;34m\u001b[0m\u001b[0;34m\u001b[0m\u001b[0;34m\u001b[0m\u001b[0m\n\u001b[0;32m--> 397\u001b[0;31m         \u001b[0mself\u001b[0m\u001b[0;34m.\u001b[0m\u001b[0mupdate\u001b[0m\u001b[0;34m(\u001b[0m\u001b[0mkwargs\u001b[0m\u001b[0;34m)\u001b[0m\u001b[0;34m\u001b[0m\u001b[0;34m\u001b[0m\u001b[0m\n\u001b[0m\u001b[1;32m    398\u001b[0m         \u001b[0mself\u001b[0m\u001b[0;34m.\u001b[0m\u001b[0mpickradius\u001b[0m \u001b[0;34m=\u001b[0m \u001b[0mpickradius\u001b[0m\u001b[0;34m\u001b[0m\u001b[0;34m\u001b[0m\u001b[0m\n\u001b[1;32m    399\u001b[0m         \u001b[0mself\u001b[0m\u001b[0;34m.\u001b[0m\u001b[0mind_offset\u001b[0m \u001b[0;34m=\u001b[0m \u001b[0;36m0\u001b[0m\u001b[0;34m\u001b[0m\u001b[0;34m\u001b[0m\u001b[0m\n",
      "\u001b[0;32m~/anaconda3/envs/npp_test/lib/python3.9/site-packages/matplotlib/artist.py\u001b[0m in \u001b[0;36mupdate\u001b[0;34m(self, props)\u001b[0m\n\u001b[1;32m   1060\u001b[0m                     \u001b[0mfunc\u001b[0m \u001b[0;34m=\u001b[0m \u001b[0mgetattr\u001b[0m\u001b[0;34m(\u001b[0m\u001b[0mself\u001b[0m\u001b[0;34m,\u001b[0m \u001b[0;34mf\"set_{k}\"\u001b[0m\u001b[0;34m,\u001b[0m \u001b[0;32mNone\u001b[0m\u001b[0;34m)\u001b[0m\u001b[0;34m\u001b[0m\u001b[0;34m\u001b[0m\u001b[0m\n\u001b[1;32m   1061\u001b[0m                     \u001b[0;32mif\u001b[0m \u001b[0;32mnot\u001b[0m \u001b[0mcallable\u001b[0m\u001b[0;34m(\u001b[0m\u001b[0mfunc\u001b[0m\u001b[0;34m)\u001b[0m\u001b[0;34m:\u001b[0m\u001b[0;34m\u001b[0m\u001b[0;34m\u001b[0m\u001b[0m\n\u001b[0;32m-> 1062\u001b[0;31m                         raise AttributeError(f\"{type(self).__name__!r} object \"\n\u001b[0m\u001b[1;32m   1063\u001b[0m                                              f\"has no property {k!r}\")\n\u001b[1;32m   1064\u001b[0m                     \u001b[0mret\u001b[0m\u001b[0;34m.\u001b[0m\u001b[0mappend\u001b[0m\u001b[0;34m(\u001b[0m\u001b[0mfunc\u001b[0m\u001b[0;34m(\u001b[0m\u001b[0mv\u001b[0m\u001b[0;34m)\u001b[0m\u001b[0;34m)\u001b[0m\u001b[0;34m\u001b[0m\u001b[0;34m\u001b[0m\u001b[0m\n",
      "\u001b[0;31mAttributeError\u001b[0m: 'Line2D' object has no property 'cmap'"
     ]
    },
    {
     "data": {
      "image/png": "[encoded data removed]",
      "text/plain": [
       "<Figure size 654.545x523.636 with 1 Axes>"
      ]
     },
     "metadata": {
      "needs_background": "light"
     },
     "output_type": "display_data"
    }
   ],
   "source": [
    "energies = np.logspace(7,11,17)\n",
    "angles = np.arange(1,36)\n",
    "\n",
    "cm = plt.get_cmap('hsv')\n",
    "\n",
    "# if len(energies) > 4:\n",
    "#     cc = (cycler(color=list('rgbkm')) * cycler(linestyle=['solid', 'dotted', 'dashed', 'dashdot']))\n",
    "# else:\n",
    "#     cc = (cycler(color=list('rgbkm')))\n",
    "\n",
    "# params = {'axes.prop_cycle': cc}\n",
    "# plt.rcParams.update(params)\n",
    "fig, axs = plt.subplots(1, figsize=(10/1.1, 8/1.1))\n",
    "# axs = ax.ravel()\n",
    "\n",
    "for i,energy in enumerate(energies):\n",
    "    \n",
    "    pexit_no_regen = data.get_pexit(nu_type, lepton, energy, idepth, cross_section_model, pn_model, prop_type, stats)[0] # without regen\n",
    "    pexit_regen = data.get_pexit(nu_type, lepton, energy, idepth, cross_section_model, pn_model, prop_type, stats)[1] # without regen\n",
    "#     c=cm((len(mDM)-i)/float(len(mDM))))\n",
    "    energy_log = float(np.log10(energy))\n",
    "\n",
    "#     axs.loglog(angles, pexit_regen, linewidth = 2, label = '%.0d' % energy_log)\n",
    "#     axs.loglog(angles, pexit_regen, linewidth = 2, c=cm((len(energies)-i)/float(len(energies))))\n",
    "    axs.loglog(angles, pexit_regen, linewidth = 2, cmap=plt.get_cmap('hsv'))\n",
    "\n",
    "# print(int(len(energies)/4))\n",
    "# axs.legend(loc='best',ncol=int(len(energies)/4), title = r'log$_{10}(E_{\\nu}/GeV)$', frameon=False, framealpha=0.5)\n",
    "    \n",
    "ticks = (1,2,3,4,5,10,15,20,30)\n",
    "axs.set_xticks(ticks)\n",
    "axs.set_xticklabels([i for i in ticks])\n",
    "\n",
    "\n",
    "axs.grid(which='major', axis='both', linestyle='--')\n",
    "axs.grid(which='minor', linestyle=':', linewidth='0.2', color='black')\n",
    "axs.xaxis.set_ticks_position('both')\n",
    "axs.yaxis.set_ticks_position('both')\n",
    "axs.tick_params(axis='x', which='both', labelbottom = True, labeltop = False)\n",
    "axs.tick_params(axis='y', which='both', left = True, labelleft = True, labelright= True)\n",
    "for axis in [axs.xaxis]:\n",
    "    axis.set_major_formatter(ScalarFormatter())\n",
    "axs.set_xlabel(\"Emergence Angle (Deg)\", fontsize=30)\n",
    "\n",
    "axs.set_ylabel(r\"$P_{exit}$\", fontsize=30)\n",
    "axs.set_ylim(1e-6,1e-1)\n",
    "\n",
    "axs.set_xlim(1,35)\n",
    "\n",
    "plt.tight_layout()\n",
    "    "
   ]
  },
  {
   "cell_type": "code",
   "execution_count": null,
   "id": "fe8d84db",
   "metadata": {},
   "outputs": [],
   "source": [
    "def plot_npp(nu_type, lepton, energies, idepth, nu_cs, lep_pn, loss_type, stats):\n",
    "    p_exit_dict = p_exit(nu_type, lepton, energies, 'regen', idepth, nu_cs, lep_pn, loss_type, stats)\n",
    "    \n",
    "    angles = np.arange(1,36)\n",
    "    \n",
    "    if len(energies) > 4:\n",
    "        cc = (cycler(color=list('rgbkm')) * cycler(linestyle=['solid', 'dotted', 'dashed', 'dashdot']))\n",
    "    else:\n",
    "        cc = (cycler(color=list('rgbkm')))\n",
    "              \n",
    "    params = {'axes.prop_cycle': cc}\n",
    "    plt.rcParams.update(params)\n",
    "\n",
    "    fig, axs = plt.subplots(figsize=(20,10),dpi=100)\n",
    "#     color_lst = ['r', 'g', 'b', 'k', 'm']\n",
    "\n",
    "    for i in range(len(energies)):\n",
    "        energy_log = int(np.log10(energies[i]))\n",
    "\n",
    "        axs.loglog(angles, p_exit_dict[energies[i]], linewidth = 2, label = '%.0d' % energy_log)\n",
    "\n",
    "\n",
    "        axs.legend(loc='best',ncol=int(len(energies)/2), title = r'log$_{10}(E_{\\nu}/GeV)$', frameon=False, framealpha=0.5)\n",
    "\n",
    "\n",
    "    # ticks = (1,2,3,4,5,6,7,8,9,10,20,30,40,50)\n",
    "    # ticks = (1,2,3,4,5,6,7,8,9,10,15,20,25,30,35)\n",
    "    ticks = (1,2,3,4,5,10,15,20,25,30,35)\n",
    "    axs.set_xticks(ticks)\n",
    "    axs.set_xticklabels([i for i in ticks])\n",
    "\n",
    "\n",
    "    axs.grid(which='major', axis='both', linestyle='--')\n",
    "    axs.grid(which='minor', linestyle=':', linewidth='0.2', color='black')\n",
    "    axs.xaxis.set_ticks_position('both')\n",
    "    axs.yaxis.set_ticks_position('both')\n",
    "    axs.tick_params(axis='x', which='both', labelbottom = True, labeltop = False)\n",
    "    axs.tick_params(axis='y', which='both', left = True, labelleft = True, labelright= True)\n",
    "    for axis in [axs.xaxis]:\n",
    "        axis.set_major_formatter(ScalarFormatter())\n",
    "    axs.set_xlabel(\"Emergence Angle (Deg)\")\n",
    "\n",
    "    axs.set_ylabel(r\"$P_{exit}$\")\n",
    "    axs.set_ylim(1e-6,1e-1)\n",
    "\n",
    "    axs.set_xlim(1,35)\n",
    "\n",
    "    plt.tight_layout()\n",
    "    # plt.savefig('p_exit_npp.png', format='png', dpi = 100)\n",
    "\n",
    "    return None"
   ]
  },
  {
   "cell_type": "code",
   "execution_count": null,
   "id": "62af2791",
   "metadata": {
    "scrolled": true
   },
   "outputs": [],
   "source": [
    "plot_npp(nu_type, lepton, energies, idepth, nu_cs, lep_pn, loss_type, stats)"
   ]
  },
  {
   "cell_type": "code",
   "execution_count": null,
   "id": "70bc6373",
   "metadata": {},
   "outputs": [],
   "source": []
  }
 ],
 "metadata": {
  "kernelspec": {
   "display_name": "Python 3 (ipykernel)",
   "language": "python",
   "name": "python3"
  },
  "language_info": {
   "codemirror_mode": {
    "name": "ipython",
    "version": 3
   },
   "file_extension": ".py",
   "mimetype": "text/x-python",
   "name": "python",
   "nbconvert_exporter": "python",
   "pygments_lexer": "ipython3",
   "version": "3.9.6"
  }
 },
 "nbformat": 4,
 "nbformat_minor": 5
}
